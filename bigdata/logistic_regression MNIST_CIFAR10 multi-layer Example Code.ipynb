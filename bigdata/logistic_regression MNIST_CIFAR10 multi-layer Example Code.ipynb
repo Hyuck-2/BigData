{
 "cells": [
  {
   "cell_type": "markdown",
   "metadata": {
    "slideshow": {
     "slide_type": "slide"
    }
   },
   "source": [
    "# Logistic Regression - Multi-Layer Case\n",
    "## (for mnist, cifar10 dataset)"
   ]
  },
  {
   "cell_type": "markdown",
   "metadata": {
    "slideshow": {
     "slide_type": "slide"
    }
   },
   "source": [
    "# Library"
   ]
  },
  {
   "cell_type": "code",
   "execution_count": 1,
   "metadata": {
    "slideshow": {
     "slide_type": "-"
    }
   },
   "outputs": [],
   "source": [
    "import tensorflow as tf\n",
    "import numpy as np\n",
    "from tensorflow.keras.datasets import mnist, cifar10\n",
    "from matplotlib import pyplot as plt\n",
    "from sklearn.metrics import confusion_matrix"
   ]
  },
  {
   "cell_type": "markdown",
   "metadata": {
    "slideshow": {
     "slide_type": "slide"
    }
   },
   "source": [
    "# Load data and data check"
   ]
  },
  {
   "cell_type": "code",
   "execution_count": 2,
   "metadata": {
    "slideshow": {
     "slide_type": "-"
    }
   },
   "outputs": [],
   "source": [
    "# load data\n",
    "(x_train, y_train), (x_test, y_test) = mnist.load_data()\n",
    "# (x_train, y_train), (x_test, y_test) = cifar10.load_data()"
   ]
  },
  {
   "cell_type": "code",
   "execution_count": 3,
   "metadata": {
    "slideshow": {
     "slide_type": "subslide"
    }
   },
   "outputs": [
    {
     "data": {
      "image/png": "[encoded data removed]",
      "text/plain": [
       "<Figure size 432x288 with 1 Axes>"
      ]
     },
     "metadata": {
      "needs_background": "light"
     },
     "output_type": "display_data"
    },
    {
     "name": "stdout",
     "output_type": "stream",
     "text": [
      "[[[0 0 0 ... 0 0 0]\n",
      "  [0 0 0 ... 0 0 0]\n",
      "  [0 0 0 ... 0 0 0]\n",
      "  ...\n",
      "  [0 0 0 ... 0 0 0]\n",
      "  [0 0 0 ... 0 0 0]\n",
      "  [0 0 0 ... 0 0 0]]\n",
      "\n",
      " [[0 0 0 ... 0 0 0]\n",
      "  [0 0 0 ... 0 0 0]\n",
      "  [0 0 0 ... 0 0 0]\n",
      "  ...\n",
      "  [0 0 0 ... 0 0 0]\n",
      "  [0 0 0 ... 0 0 0]\n",
      "  [0 0 0 ... 0 0 0]]\n",
      "\n",
      " [[0 0 0 ... 0 0 0]\n",
      "  [0 0 0 ... 0 0 0]\n",
      "  [0 0 0 ... 0 0 0]\n",
      "  ...\n",
      "  [0 0 0 ... 0 0 0]\n",
      "  [0 0 0 ... 0 0 0]\n",
      "  [0 0 0 ... 0 0 0]]\n",
      "\n",
      " ...\n",
      "\n",
      " [[0 0 0 ... 0 0 0]\n",
      "  [0 0 0 ... 0 0 0]\n",
      "  [0 0 0 ... 0 0 0]\n",
      "  ...\n",
      "  [0 0 0 ... 0 0 0]\n",
      "  [0 0 0 ... 0 0 0]\n",
      "  [0 0 0 ... 0 0 0]]\n",
      "\n",
      " [[0 0 0 ... 0 0 0]\n",
      "  [0 0 0 ... 0 0 0]\n",
      "  [0 0 0 ... 0 0 0]\n",
      "  ...\n",
      "  [0 0 0 ... 0 0 0]\n",
      "  [0 0 0 ... 0 0 0]\n",
      "  [0 0 0 ... 0 0 0]]\n",
      "\n",
      " [[0 0 0 ... 0 0 0]\n",
      "  [0 0 0 ... 0 0 0]\n",
      "  [0 0 0 ... 0 0 0]\n",
      "  ...\n",
      "  [0 0 0 ... 0 0 0]\n",
      "  [0 0 0 ... 0 0 0]\n",
      "  [0 0 0 ... 0 0 0]]]\n",
      "[5 0 4 ... 5 6 8]\n"
     ]
    }
   ],
   "source": [
    "# data check\n",
    "plt.figure()\n",
    "plt.imshow(x_train[0])\n",
    "plt.show()\n",
    "print(x_train)\n",
    "print(y_train)"
   ]
  },
  {
   "cell_type": "markdown",
   "metadata": {
    "slideshow": {
     "slide_type": "slide"
    }
   },
   "source": [
    "# Data preprocessing (x reshape, x nomalize, y onehot)"
   ]
  },
  {
   "cell_type": "code",
   "execution_count": 4,
   "metadata": {
    "slideshow": {
     "slide_type": "-"
    }
   },
   "outputs": [],
   "source": [
    "shape = x_train.shape[1:]\n",
    "\n",
    "# x data reshape\n",
    "reshaped_x_train = x_train.reshape(-1, np.prod(shape))\n",
    "reshaped_x_test = x_test.reshape(-1, np.prod(shape))\n",
    "\n",
    "# x data normalization\n",
    "X_train = reshaped_x_train / 255.\n",
    "X_test = reshaped_x_test / 255.\n",
    "\n",
    "# y data one hot encoding\n",
    "Y_train = np.eye(10)[y_train.reshape(-1)]\n",
    "Y_test = np.eye(10)[y_test.reshape(-1)]"
   ]
  },
  {
   "cell_type": "code",
   "execution_count": 5,
   "metadata": {
    "slideshow": {
     "slide_type": "subslide"
    }
   },
   "outputs": [
    {
     "name": "stdout",
     "output_type": "stream",
     "text": [
      "X data shape: (60000, 784) (10000, 784)\n",
      "Y data shape: (60000, 10) (10000, 10)\n",
      "\n",
      "X train data\n",
      "[[0. 0. 0. ... 0. 0. 0.]\n",
      " [0. 0. 0. ... 0. 0. 0.]\n",
      " [0. 0. 0. ... 0. 0. 0.]\n",
      " ...\n",
      " [0. 0. 0. ... 0. 0. 0.]\n",
      " [0. 0. 0. ... 0. 0. 0.]\n",
      " [0. 0. 0. ... 0. 0. 0.]]\n",
      "X test data\n",
      "[[0. 0. 0. ... 0. 0. 0.]\n",
      " [0. 0. 0. ... 0. 0. 0.]\n",
      " [0. 0. 0. ... 0. 0. 0.]\n",
      " ...\n",
      " [0. 0. 0. ... 0. 0. 0.]\n",
      " [0. 0. 0. ... 0. 0. 0.]\n",
      " [0. 0. 0. ... 0. 0. 0.]]\n",
      "\n",
      "Y train data\n",
      "[[0. 0. 0. ... 0. 0. 0.]\n",
      " [1. 0. 0. ... 0. 0. 0.]\n",
      " [0. 0. 0. ... 0. 0. 0.]\n",
      " ...\n",
      " [0. 0. 0. ... 0. 0. 0.]\n",
      " [0. 0. 0. ... 0. 0. 0.]\n",
      " [0. 0. 0. ... 0. 1. 0.]]\n",
      "Y test data\n",
      "[[0. 0. 0. ... 1. 0. 0.]\n",
      " [0. 0. 1. ... 0. 0. 0.]\n",
      " [0. 1. 0. ... 0. 0. 0.]\n",
      " ...\n",
      " [0. 0. 0. ... 0. 0. 0.]\n",
      " [0. 0. 0. ... 0. 0. 0.]\n",
      " [0. 0. 0. ... 0. 0. 0.]]\n"
     ]
    }
   ],
   "source": [
    "print('X data shape:', X_train.shape, X_test.shape)\n",
    "print('Y data shape:', Y_train.shape, Y_test.shape)\n",
    "print()\n",
    "\n",
    "print('X train data')\n",
    "print(X_train)\n",
    "print('X test data')\n",
    "print(X_test)\n",
    "print()\n",
    "\n",
    "print('Y train data')\n",
    "print(Y_train)\n",
    "print('Y test data')\n",
    "print(Y_test)"
   ]
  },
  {
   "cell_type": "markdown",
   "metadata": {
    "slideshow": {
     "slide_type": "slide"
    }
   },
   "source": [
    "# Multi Layer Logistic Regression"
   ]
  },
  {
   "cell_type": "markdown",
   "metadata": {
    "slideshow": {
     "slide_type": "slide"
    }
   },
   "source": [
    "## Hyper parameter setting"
   ]
  },
  {
   "cell_type": "code",
   "execution_count": 6,
   "metadata": {
    "slideshow": {
     "slide_type": "-"
    }
   },
   "outputs": [],
   "source": [
    "# hypter parameter setting\n",
    "learning_rate = 1e-1\n",
    "training_epochs = 25\n",
    "display_step = 5\n",
    "\n",
    "# number of hidden layer's node\n",
    "h = 256\n",
    "# activation function\n",
    "act = tf.nn.tanh"
   ]
  },
  {
   "cell_type": "markdown",
   "metadata": {
    "slideshow": {
     "slide_type": "slide"
    }
   },
   "source": [
    "## Skeleton code"
   ]
  },
  {
   "cell_type": "code",
   "execution_count": 7,
   "metadata": {
    "slideshow": {
     "slide_type": "-"
    }
   },
   "outputs": [],
   "source": [
    "tf.reset_default_graph()\n",
    "\n",
    "# place holder\n",
    "\n",
    "\n",
    "\n",
    "# variables\n",
    "\n",
    "\n",
    "\n",
    "\n",
    "\n",
    "# model\n",
    "\n",
    "\n",
    "\n",
    "\n",
    "# cross entropy loss and optimizer\n",
    "\n",
    " "
   ]
  },
  {
   "cell_type": "markdown",
   "metadata": {
    "slideshow": {
     "slide_type": "slide"
    }
   },
   "source": [
    "## Make model with get_variable"
   ]
  },
  {
   "cell_type": "code",
   "execution_count": 8,
   "metadata": {
    "slideshow": {
     "slide_type": "-"
    }
   },
   "outputs": [],
   "source": [
    "tf.reset_default_graph()\n",
    "\n",
    "# place holder\n",
    "tf_X = tf.placeholder(tf.float32, [None, np.prod(shape)])\n",
    "tf_Y = tf.placeholder(tf.float32, [None, 10])\n",
    "\n",
    "# get variables\n",
    "w1 = tf.get_variable('w1', [np.prod(shape), h])\n",
    "b1 = tf.get_variable('b1', [h])\n",
    "w2 = tf.get_variable('w2', [h, 10])\n",
    "b2 = tf.get_variable('b2', [10])\n",
    "\n",
    "# model\n",
    "hidden1 = act(tf_X @ w1 + b1)\n",
    "pred = tf.nn.softmax(hidden1 @ w2 + b2)\n",
    "\n",
    "\n",
    "# cross entropy loss\n",
    "loss = tf.reduce_mean(-tf.reduce_sum(tf_Y * tf.log(pred), axis=1))\n",
    "optimizer = tf.train.GradientDescentOptimizer(learning_rate).minimize(loss)"
   ]
  },
  {
   "cell_type": "markdown",
   "metadata": {
    "slideshow": {
     "slide_type": "slide"
    }
   },
   "source": [
    "## Make model with tf.layers.dense"
   ]
  },
  {
   "cell_type": "code",
   "execution_count": 9,
   "metadata": {
    "slideshow": {
     "slide_type": "-"
    }
   },
   "outputs": [],
   "source": [
    "tf.reset_default_graph()\n",
    "\n",
    "# place holder\n",
    "tf_X = tf.placeholder(tf.float32, [None, np.prod(shape)])\n",
    "tf_Y = tf.placeholder(tf.float32, [None, 10])\n",
    "\n",
    "# get variables\n",
    "\n",
    "\n",
    "\n",
    "\n",
    "\n",
    "# model\n",
    "hidden1 = tf.layers.dense(tf_X, h, activation=act)\n",
    "logit = tf.layers.dense(hidden1, 10)\n",
    "pred = tf.nn.softmax(logit)\n",
    "\n",
    "# cross entropy loss\n",
    "loss = tf.losses.softmax_cross_entropy(tf_Y, logit)\n",
    "optimizer = tf.train.GradientDescentOptimizer(learning_rate).minimize(loss)"
   ]
  },
  {
   "cell_type": "markdown",
   "metadata": {
    "slideshow": {
     "slide_type": "slide"
    }
   },
   "source": [
    "# Train and result (without batch)"
   ]
  },
  {
   "cell_type": "code",
   "execution_count": 10,
   "metadata": {
    "slideshow": {
     "slide_type": "-"
    }
   },
   "outputs": [
    {
     "name": "stdout",
     "output_type": "stream",
     "text": [
      "Epoch: 5 \tLoss: 1.7367046\n",
      "Epoch: 10 \tLoss: 1.2996505\n",
      "Epoch: 15 \tLoss: 1.0567713\n",
      "Epoch: 20 \tLoss: 0.90834373\n",
      "Epoch: 25 \tLoss: 0.8096034\n",
      "최적화 완료\n",
      "정확도: 0.8351\n"
     ]
    }
   ],
   "source": [
    "# train\n",
    "init = tf.global_variables_initializer()\n",
    "\n",
    "with tf.Session() as sess:\n",
    "    # init\n",
    "    sess.run(init)\n",
    "    \n",
    "    # train\n",
    "    losses = []  # init loss list\n",
    "    for epoch in range(training_epochs):\n",
    "        # get loss in sess.run\n",
    "        _, l = sess.run([optimizer, loss], feed_dict={tf_X:X_train, tf_Y:Y_train})\n",
    "        losses.append(l)  # save loss\n",
    "\n",
    "        if (epoch + 1) % display_step == 0:\n",
    "            print(\"Epoch:\", epoch + 1, \"\\tLoss:\", l) \n",
    "\n",
    "    print(\"최적화 완료\") \n",
    "\n",
    "    # result\n",
    "    correct_prediction = tf.equal(tf.argmax(pred, 1), tf.argmax(tf_Y, 1))\n",
    "    #tf.argmax(pred, 1)는 'pred' 값에서 '1'차원에서 높은 값을 리턴///equal 같은 자리에같은값만 True, 나머지 false\n",
    "    accuracy = tf.reduce_mean(tf.cast(correct_prediction, tf.float32))#cast 데이터 타입 바꿈 , 그러면 여기는 True가 1로 나머지 0\n",
    "    test_accuracy, y_test_pred = sess.run([accuracy, pred], \n",
    "                                          feed_dict={tf_X: X_test, tf_Y: Y_test})\n",
    "    print(\"정확도:\", test_accuracy) "
   ]
  },
  {
   "cell_type": "code",
   "execution_count": 11,
   "metadata": {
    "slideshow": {
     "slide_type": "subslide"
    }
   },
   "outputs": [
    {
     "data": {
      "image/png": "[encoded data removed]",
      "text/plain": [
       "<Figure size 432x288 with 1 Axes>"
      ]
     },
     "metadata": {
      "needs_background": "light"
     },
     "output_type": "display_data"
    },
    {
     "data": {
      "text/plain": [
       "array([[ 933,    0,   26,    5,    4,   35,   22,    4,   13,   15],\n",
       "       [   0, 1079,   34,    3,    9,   35,    9,   47,   18,   13],\n",
       "       [   9,    3,  812,   28,    4,   13,   36,   26,   18,    6],\n",
       "       [   5,    5,   36,  859,    0,  112,    3,    0,   64,   11],\n",
       "       [   0,    1,   11,    3,  839,   31,   16,   13,   18,   93],\n",
       "       [   5,    3,    1,   25,    0,  552,   14,    0,   16,   10],\n",
       "       [  19,    6,   31,    7,   19,   35,  846,    2,   20,    5],\n",
       "       [   1,    1,   21,   20,    4,   15,    0,  883,   13,   44],\n",
       "       [   8,   37,   43,   48,   14,   42,   12,   13,  747,   11],\n",
       "       [   0,    0,   17,   12,   89,   22,    0,   40,   47,  801]])"
      ]
     },
     "execution_count": 11,
     "metadata": {},
     "output_type": "execute_result"
    }
   ],
   "source": [
    "# plot losses\n",
    "plt.figure()\n",
    "plt.plot(losses)\n",
    "plt.show()\n",
    "\n",
    "# print confusion matrix\n",
    "confusion_matrix(np.argmax(y_test_pred, 1), y_test)"
   ]
  },
  {
   "cell_type": "markdown",
   "metadata": {
    "slideshow": {
     "slide_type": "slide"
    }
   },
   "source": [
    "# Train and result (with batch - 1)"
   ]
  },
  {
   "cell_type": "code",
   "execution_count": 12,
   "metadata": {
    "slideshow": {
     "slide_type": "-"
    }
   },
   "outputs": [
    {
     "name": "stdout",
     "output_type": "stream",
     "text": [
      "Epoch: 5 \tLoss: 1.7496979\n",
      "Epoch: 10 \tLoss: 1.3058469\n",
      "Epoch: 15 \tLoss: 1.0599719\n",
      "Epoch: 20 \tLoss: 0.91041434\n",
      "Epoch: 25 \tLoss: 0.8111794\n",
      "최적화 완료\n",
      "정확도: 0.83\n"
     ]
    }
   ],
   "source": [
    "# train\n",
    "init = tf.global_variables_initializer()\n",
    "\n",
    "with tf.Session() as sess:\n",
    "    # init\n",
    "    sess.run(init)\n",
    "    \n",
    "    # train\n",
    "    batch_size = 100  ### batch size hyper_parameter\n",
    "    losses = []  # init loss list\n",
    "    for epoch in range(training_epochs):\n",
    "        # get loss in sess.run\n",
    "        _, l = sess.run([optimizer, loss], feed_dict={tf_X:X_train, tf_Y:Y_train})\n",
    "        losses.append(l)  # save loss\n",
    "\n",
    "        if (epoch + 1) % display_step == 0:\n",
    "            print(\"Epoch:\", epoch + 1, \"\\tLoss:\", l) \n",
    "\n",
    "    print(\"최적화 완료\") \n",
    "\n",
    "    # result\n",
    "    correct_prediction = tf.equal(tf.argmax(pred, 1), tf.argmax(tf_Y, 1))\n",
    "    accuracy = tf.reduce_mean(tf.cast(correct_prediction, tf.float32))\n",
    "    test_accuracy, y_test_pred = sess.run([accuracy, pred], \n",
    "                                          feed_dict={tf_X: X_test, tf_Y: Y_test})\n",
    "    print(\"정확도:\", test_accuracy) "
   ]
  },
  {
   "cell_type": "markdown",
   "metadata": {
    "slideshow": {
     "slide_type": "slide"
    }
   },
   "source": [
    "# Train and result (with batch - 2)"
   ]
  },
  {
   "cell_type": "code",
   "execution_count": 13,
   "metadata": {
    "slideshow": {
     "slide_type": "-"
    }
   },
   "outputs": [
    {
     "name": "stdout",
     "output_type": "stream",
     "text": [
      "Epoch: 5 \tLoss: 1.6914661\n",
      "Epoch: 10 \tLoss: 1.2653401\n",
      "Epoch: 15 \tLoss: 1.0337569\n",
      "Epoch: 20 \tLoss: 0.89332086\n",
      "Epoch: 25 \tLoss: 0.7997529\n",
      "최적화 완료\n",
      "정확도: 0.8352\n"
     ]
    }
   ],
   "source": [
    "# train\n",
    "init = tf.global_variables_initializer()\n",
    "\n",
    "with tf.Session() as sess:\n",
    "    # init\n",
    "    sess.run(init)\n",
    "    \n",
    "    # train\n",
    "    batch_size = 100  # batch size hyper_parameter\n",
    "    total_batch = int( len(X_train)/batch_size )  ### total batch: number of batches\n",
    "    losses = [sess.run(loss, feed_dict={tf_X: X_train, tf_Y: Y_train})]  # init loss list\n",
    "    for epoch in range(training_epochs):\n",
    "        # get loss in sess.run\n",
    "        _, l = sess.run([optimizer, loss], feed_dict={tf_X:X_train, tf_Y:Y_train})\n",
    "        losses.append(l)  # save loss\n",
    "\n",
    "        if (epoch + 1) % display_step == 0:\n",
    "            print(\"Epoch:\", epoch + 1, \"\\tLoss:\", l) \n",
    "\n",
    "    print(\"최적화 완료\") \n",
    "\n",
    "    # result\n",
    "    correct_prediction = tf.equal(tf.argmax(pred, 1), tf.argmax(tf_Y, 1))\n",
    "    accuracy = tf.reduce_mean(tf.cast(correct_prediction, tf.float32))\n",
    "    test_accuracy, y_test_pred = sess.run([accuracy, pred], \n",
    "                                          feed_dict={tf_X: X_test, tf_Y: Y_test})\n",
    "    print(\"정확도:\", test_accuracy) "
   ]
  },
  {
   "cell_type": "markdown",
   "metadata": {
    "slideshow": {
     "slide_type": "slide"
    }
   },
   "source": [
    "# Train and result (with batch - 3) - DO NOT EXECUTE"
   ]
  },
  {
   "cell_type": "code",
   "execution_count": 14,
   "metadata": {
    "slideshow": {
     "slide_type": "-"
    }
   },
   "outputs": [],
   "source": [
    "# # train\n",
    "# init = tf.global_variables_initializer()\n",
    "\n",
    "# with tf.Session() as sess:\n",
    "#     # init\n",
    "#     sess.run(init)\n",
    "    \n",
    "#     # train\n",
    "#     batch_size = 100  # batch size hyper_parameter\n",
    "#     total_batch = int( len(X_train)/batch_size )  # total batch: number of batches\n",
    "#     losses = []  # init loss list\n",
    "#     for epoch in range(0, training_epochs):\n",
    "#         for i in range(total_batch):\n",
    "#             # get loss in sess.run\n",
    "#             _, l = sess.run([optimizer, loss], feed_dict={tf_X: X_train, tf_Y: Y_train}) \n",
    "#         losses.append(l)  # save loss\n",
    "\n",
    "#         if (epoch + 1) % display_step == 0:\n",
    "#             print(\"Epoch:\", epoch + 1, \"\\tLoss:\", l) \n",
    "\n",
    "\n",
    "#     print(\"최적화 완료\") \n",
    "\n",
    "#     # result\n",
    "#     correct_prediction = tf.equal(tf.argmax(pred, 1), tf.argmax(tf_Y, 1))\n",
    "#     accuracy = tf.reduce_mean(tf.cast(correct_prediction, tf.float32))\n",
    "#     test_accuracy, y_test_pred = sess.run([accuracy, pred], \n",
    "#                                           feed_dict={tf_X: X_test, tf_Y: Y_test})\n",
    "#     print(\"정확도:\", test_accuracy) "
   ]
  },
  {
   "cell_type": "markdown",
   "metadata": {
    "slideshow": {
     "slide_type": "slide"
    }
   },
   "source": [
    "# Train and result (with batch - 4)"
   ]
  },
  {
   "cell_type": "code",
   "execution_count": 15,
   "metadata": {
    "slideshow": {
     "slide_type": "-"
    }
   },
   "outputs": [
    {
     "name": "stdout",
     "output_type": "stream",
     "text": [
      "Epoch: 5 \tLoss: 0.22184063\n",
      "Epoch: 10 \tLoss: 0.17599215\n",
      "Epoch: 15 \tLoss: 0.15326641\n",
      "Epoch: 20 \tLoss: 0.13662165\n",
      "Epoch: 25 \tLoss: 0.122879125\n",
      "최적화 완료\n",
      "정확도: 0.9748\n"
     ]
    }
   ],
   "source": [
    "# train\n",
    "init = tf.global_variables_initializer()\n",
    "\n",
    "with tf.Session() as sess:\n",
    "    # init\n",
    "    sess.run(init)\n",
    "    \n",
    "    # train\n",
    "    batch_size = 100  # batch size hyper_parameter\n",
    "    total_batch = int( len(X_train)/batch_size )  # total batch: number of batches\n",
    "    losses = []  # init loss list\n",
    "    for epoch in range(0, training_epochs):\n",
    "        for i in range(total_batch):\n",
    "            ### get batch\n",
    "            x_batch = X_train[i*batch_size:(i+1)*batch_size]\n",
    "            y_batch = Y_train[i*batch_size:(i+1)*batch_size]\n",
    "\n",
    "            # get loss in sess.run ### batch input\n",
    "            _, l = sess.run([optimizer, loss], feed_dict={tf_X: x_batch, tf_Y: y_batch}) \n",
    "        losses.append(l)  # save loss\n",
    "\n",
    "        if (epoch + 1) % display_step == 0:\n",
    "            print(\"Epoch:\", epoch + 1, \"\\tLoss:\", l) \n",
    "\n",
    "    print(\"최적화 완료\") \n",
    "\n",
    "    # result\n",
    "    correct_prediction = tf.equal(tf.argmax(pred, 1), tf.argmax(tf_Y, 1))\n",
    "    accuracy = tf.reduce_mean(tf.cast(correct_prediction, tf.float32))\n",
    "    test_accuracy, y_test_pred = sess.run([accuracy, pred], \n",
    "                                          feed_dict={tf_X: X_test, tf_Y: Y_test})\n",
    "    print(\"정확도:\", test_accuracy) "
   ]
  },
  {
   "cell_type": "code",
   "execution_count": 16,
   "metadata": {
    "slideshow": {
     "slide_type": "subslide"
    }
   },
   "outputs": [
    {
     "data": {
      "image/png": "[encoded data removed]",
      "text/plain": [
       "<Figure size 432x288 with 1 Axes>"
      ]
     },
     "metadata": {
      "needs_background": "light"
     },
     "output_type": "display_data"
    },
    {
     "data": {
      "text/plain": [
       "array([[ 970,    0,    6,    0,    2,    2,    7,    1,    4,    4],\n",
       "       [   0, 1125,    1,    1,    0,    1,    2,    6,    1,    2],\n",
       "       [   1,    3, 1007,    4,    3,    0,    1,   11,    4,    0],\n",
       "       [   0,    2,    3,  989,    1,    9,    0,    4,    9,    7],\n",
       "       [   1,    0,    3,    0,  956,    1,    2,    3,    6,   10],\n",
       "       [   3,    1,    0,    7,    0,  870,   10,    1,    5,    5],\n",
       "       [   1,    2,    2,    0,    3,    6,  933,    0,    3,    0],\n",
       "       [   1,    1,    5,    2,    2,    1,    2,  989,    4,    4],\n",
       "       [   2,    1,    5,    2,    1,    1,    1,    2,  932,    0],\n",
       "       [   1,    0,    0,    5,   14,    1,    0,   11,    6,  977]])"
      ]
     },
     "execution_count": 16,
     "metadata": {},
     "output_type": "execute_result"
    }
   ],
   "source": [
    "# plot losses\n",
    "plt.figure()\n",
    "plt.plot(losses)\n",
    "plt.show()\n",
    "\n",
    "# print confusion matrix\n",
    "confusion_matrix(np.argmax(y_test_pred, 1), y_test)"
   ]
  },
  {
   "cell_type": "markdown",
   "metadata": {
    "slideshow": {
     "slide_type": "slide"
    }
   },
   "source": [
    "# Train and result (with batch - 5)"
   ]
  },
  {
   "cell_type": "code",
   "execution_count": 17,
   "metadata": {
    "slideshow": {
     "slide_type": "-"
    }
   },
   "outputs": [
    {
     "name": "stdout",
     "output_type": "stream",
     "text": [
      "Epoch: 5 \tLoss: 0.18088688\n",
      "Epoch: 10 \tLoss: 0.040997032\n",
      "Epoch: 15 \tLoss: 0.09472225\n",
      "Epoch: 20 \tLoss: 0.054913424\n",
      "Epoch: 25 \tLoss: 0.019206036\n",
      "최적화 완료\n",
      "정확도: 0.9778\n"
     ]
    }
   ],
   "source": [
    "# train\n",
    "init = tf.global_variables_initializer()\n",
    "\n",
    "with tf.Session() as sess:\n",
    "    # init\n",
    "    sess.run(init)\n",
    "    \n",
    "    # train\n",
    "    batch_size = 100  # batch size hyper_parameter\n",
    "    total_batch = int( len(X_train)/batch_size )  # total batch: number of batches\n",
    "    losses = []  # init loss list\n",
    "    for epoch in range(0, training_epochs):\n",
    "        ### shuffle\n",
    "        idx = np.random.permutation(len(X_train))\n",
    "        shuffled_X_train = X_train[idx]\n",
    "        shuffled_Y_train = Y_train[idx]\n",
    "        \n",
    "        for i in range(total_batch):\n",
    "            # get batch\n",
    "            x_batch = shuffled_X_train[i*batch_size:(i+1)*batch_size]\n",
    "            y_batch = shuffled_Y_train[i*batch_size:(i+1)*batch_size]\n",
    "\n",
    "            # get loss in sess.run # batch input\n",
    "            _, l = sess.run([optimizer, loss], feed_dict={tf_X: x_batch, tf_Y: y_batch}) \n",
    "        losses.append(l)  # save loss\n",
    "\n",
    "        if (epoch + 1) % display_step == 0:\n",
    "            print(\"Epoch:\", epoch + 1, \"\\tLoss:\", l) \n",
    "\n",
    "    print(\"최적화 완료\") \n",
    "\n",
    "    # result\n",
    "    correct_prediction = tf.equal(tf.argmax(pred, 1), tf.argmax(tf_Y, 1))\n",
    "    accuracy = tf.reduce_mean(tf.cast(correct_prediction, tf.float32))\n",
    "    test_accuracy, y_test_pred = sess.run([accuracy, pred], \n",
    "                                          feed_dict={tf_X: X_test, tf_Y: Y_test})\n",
    "    print(\"정확도:\", test_accuracy) "
   ]
  },
  {
   "cell_type": "code",
   "execution_count": 18,
   "metadata": {
    "slideshow": {
     "slide_type": "subslide"
    }
   },
   "outputs": [
    {
     "data": {
      "image/png": "[encoded data removed]",
      "text/plain": [
       "<Figure size 432x288 with 1 Axes>"
      ]
     },
     "metadata": {
      "needs_background": "light"
     },
     "output_type": "display_data"
    },
    {
     "data": {
      "text/plain": [
       "array([[ 968,    0,    6,    0,    1,    5,    6,    1,    4,    5],\n",
       "       [   0, 1124,    1,    0,    0,    1,    3,    4,    1,    2],\n",
       "       [   1,    2, 1008,    1,    2,    0,    1,    8,    3,    0],\n",
       "       [   0,    1,    2,  995,    1,    7,    1,    1,    4,    7],\n",
       "       [   1,    0,    2,    0,  959,    0,    4,    0,    3,    6],\n",
       "       [   2,    1,    0,    3,    0,  866,    4,    0,    4,    3],\n",
       "       [   3,    3,    2,    0,    4,    6,  936,    0,    3,    0],\n",
       "       [   3,    1,    6,    6,    3,    1,    1, 1007,    4,   12],\n",
       "       [   2,    3,    5,    3,    1,    5,    2,    3,  946,    5],\n",
       "       [   0,    0,    0,    2,   11,    1,    0,    4,    2,  969]])"
      ]
     },
     "execution_count": 18,
     "metadata": {},
     "output_type": "execute_result"
    }
   ],
   "source": [
    "# plot losses\n",
    "plt.figure()\n",
    "plt.plot(losses)\n",
    "plt.show()\n",
    "\n",
    "# print confusion matrix\n",
    "confusion_matrix(np.argmax(y_test_pred, 1), y_test)"
   ]
  },
  {
   "cell_type": "markdown",
   "metadata": {
    "slideshow": {
     "slide_type": "slide"
    }
   },
   "source": [
    "# Train and result (with batch - iteration losses)"
   ]
  },
  {
   "cell_type": "code",
   "execution_count": 19,
   "metadata": {
    "slideshow": {
     "slide_type": "-"
    }
   },
   "outputs": [
    {
     "name": "stdout",
     "output_type": "stream",
     "text": [
      "Epoch: 5 \tLoss: 0.22111984\n",
      "Epoch: 10 \tLoss: 0.17257956\n",
      "Epoch: 15 \tLoss: 0.039491583\n",
      "Epoch: 20 \tLoss: 0.06097535\n",
      "Epoch: 25 \tLoss: 0.03366465\n",
      "최적화 완료\n",
      "정확도: 0.9763\n"
     ]
    }
   ],
   "source": [
    "# train\n",
    "init = tf.global_variables_initializer()\n",
    "\n",
    "with tf.Session() as sess:\n",
    "    # init\n",
    "    sess.run(init)\n",
    "    \n",
    "    # train\n",
    "    batch_size = 100  # batch size hyper_parameter\n",
    "    total_batch = int( len(X_train)/batch_size )  # total batch: number of batches\n",
    "    losses = []  # init loss list\n",
    "    iteration_losses = [] ### init iteration losses\n",
    "    for epoch in range(0, training_epochs):\n",
    "        # shuffle\n",
    "        idx = np.random.permutation(len(X_train))\n",
    "        shuffled_X_train = X_train[idx]\n",
    "        shuffled_Y_train = Y_train[idx]\n",
    "        \n",
    "        for i in range(total_batch):\n",
    "            # get batch\n",
    "            x_batch = shuffled_X_train[i*batch_size:(i+1)*batch_size]\n",
    "            y_batch = shuffled_Y_train[i*batch_size:(i+1)*batch_size]\n",
    "            \n",
    "            # get loss in sess.run # batch input\n",
    "            _, l = sess.run([optimizer, loss], feed_dict={tf_X: x_batch, tf_Y: y_batch}) \n",
    "            iteration_losses.append(l)  ### save iteration loss\n",
    "        losses.append(l)  # save loss\n",
    "\n",
    "        if (epoch + 1) % display_step == 0:\n",
    "            print(\"Epoch:\", epoch + 1, \"\\tLoss:\", l) \n",
    "\n",
    "    print(\"최적화 완료\") \n",
    "\n",
    "    # result\n",
    "    correct_prediction = tf.equal(tf.argmax(pred, 1), tf.argmax(tf_Y, 1))\n",
    "    accuracy = tf.reduce_mean(tf.cast(correct_prediction, tf.float32))\n",
    "    test_accuracy, y_test_pred = sess.run([accuracy, pred], \n",
    "                                          feed_dict={tf_X: X_test, tf_Y: Y_test})\n",
    "    print(\"정확도:\", test_accuracy) "
   ]
  },
  {
   "cell_type": "code",
   "execution_count": 20,
   "metadata": {
    "slideshow": {
     "slide_type": "subslide"
    }
   },
   "outputs": [
    {
     "data": {
      "image/png": "[encoded data removed]",
      "text/plain": [
       "<Figure size 432x288 with 1 Axes>"
      ]
     },
     "metadata": {
      "needs_background": "light"
     },
     "output_type": "display_data"
    },
    {
     "data": {
      "image/png": "[encoded data removed]",
      "text/plain": [
       "<Figure size 432x288 with 1 Axes>"
      ]
     },
     "metadata": {
      "needs_background": "light"
     },
     "output_type": "display_data"
    },
    {
     "data": {
      "text/plain": [
       "array([[ 969,    0,    5,    1,    1,    4,    6,    1,    3,    4],\n",
       "       [   0, 1124,    1,    0,    0,    1,    3,    2,    1,    2],\n",
       "       [   1,    2, 1004,    2,    3,    0,    0,    9,    3,    0],\n",
       "       [   1,    1,    2,  987,    1,    7,    1,    2,    4,    4],\n",
       "       [   1,    0,    2,    0,  946,    0,    4,    1,    4,    6],\n",
       "       [   4,    1,    0,    4,    1,  868,    4,    0,    3,    2],\n",
       "       [   0,    3,    3,    0,    4,    5,  934,    0,    2,    1],\n",
       "       [   1,    1,    5,    5,    4,    1,    0, 1001,    4,    8],\n",
       "       [   2,    3,   10,    7,    2,    3,    6,    2,  948,    0],\n",
       "       [   1,    0,    0,    4,   20,    3,    0,   10,    2,  982]])"
      ]
     },
     "execution_count": 20,
     "metadata": {},
     "output_type": "execute_result"
    }
   ],
   "source": [
    "# plot losses\n",
    "plt.figure()\n",
    "plt.plot(losses)\n",
    "plt.show()\n",
    "# plot iteration losses\n",
    "plt.figure()\n",
    "plt.plot(iteration_losses)\n",
    "plt.show()\n",
    "\n",
    "# print confusion matrix\n",
    "confusion_matrix(np.argmax(y_test_pred, 1), y_test)"
   ]
  },
  {
   "cell_type": "markdown",
   "metadata": {
    "slideshow": {
     "slide_type": "slide"
    }
   },
   "source": [
    "# Train and result (with batch - epoch losses)"
   ]
  },
  {
   "cell_type": "code",
   "execution_count": 21,
   "metadata": {
    "slideshow": {
     "slide_type": "-"
    }
   },
   "outputs": [
    {
     "name": "stdout",
     "output_type": "stream",
     "text": [
      "Epoch: 5 \tLoss: 0.2817798\n",
      "Epoch: 10 \tLoss: 0.034410123\n",
      "Epoch: 15 \tLoss: 0.110754624\n",
      "Epoch: 20 \tLoss: 0.054130804\n",
      "Epoch: 25 \tLoss: 0.06569463\n",
      "최적화 완료\n",
      "정확도: 0.9776\n"
     ]
    }
   ],
   "source": [
    "# train\n",
    "init = tf.global_variables_initializer()\n",
    "\n",
    "with tf.Session() as sess:\n",
    "    # init\n",
    "    sess.run(init)\n",
    "    \n",
    "    # train\n",
    "    batch_size = 100  # batch size hyper_parameter\n",
    "    total_batch = int( len(X_train)/batch_size )  # total batch: number of batches\n",
    "    losses = []  # init loss list\n",
    "    iteration_losses = [] # init iteration losses\n",
    "    for epoch in range(0, training_epochs):\n",
    "        ### avg loss\n",
    "        avg_loss = 0.\n",
    "        \n",
    "        # shuffle\n",
    "        idx = np.random.permutation(len(X_train))\n",
    "        shuffled_X_train = X_train[idx]\n",
    "        shuffled_Y_train = Y_train[idx]\n",
    "        \n",
    "        for i in range(total_batch):\n",
    "            # get batch\n",
    "            x_batch = shuffled_X_train[i*batch_size:(i+1)*batch_size]\n",
    "            y_batch = shuffled_Y_train[i*batch_size:(i+1)*batch_size]\n",
    "            \n",
    "            # get loss in sess.run # batch input\n",
    "            _, l = sess.run([optimizer, loss], feed_dict={tf_X: x_batch, tf_Y: y_batch}) \n",
    "            iteration_losses.append(l)  ### save iteration loss\n",
    "            avg_loss = avg_loss + l ### avg_loss += l\n",
    "        avg_loss = avg_loss / total_batch  ### avg_loss: average loss of iterations in an epoch\n",
    "        losses.append(avg_loss)  ### save average loss (epoch loss)\n",
    "\n",
    "        if (epoch + 1) % display_step == 0:\n",
    "            print(\"Epoch:\", epoch + 1, \"\\tLoss:\", l) \n",
    "\n",
    "    print(\"최적화 완료\") \n",
    "\n",
    "    # result\n",
    "    correct_prediction = tf.equal(tf.argmax(pred, 1), tf.argmax(tf_Y, 1))\n",
    "    accuracy = tf.reduce_mean(tf.cast(correct_prediction, tf.float32))\n",
    "    test_accuracy, y_test_pred = sess.run([accuracy, pred], \n",
    "                                          feed_dict={tf_X: X_test, tf_Y: Y_test})\n",
    "    print(\"정확도:\", test_accuracy) "
   ]
  },
  {
   "cell_type": "code",
   "execution_count": 22,
   "metadata": {
    "slideshow": {
     "slide_type": "subslide"
    }
   },
   "outputs": [
    {
     "data": {
      "image/png": "[encoded data removed]",
      "text/plain": [
       "<Figure size 432x288 with 1 Axes>"
      ]
     },
     "metadata": {
      "needs_background": "light"
     },
     "output_type": "display_data"
    },
    {
     "data": {
      "image/png": "[encoded data removed]",
      "text/plain": [
       "<Figure size 432x288 with 1 Axes>"
      ]
     },
     "metadata": {
      "needs_background": "light"
     },
     "output_type": "display_data"
    },
    {
     "data": {
      "text/plain": [
       "array([[ 968,    0,    6,    0,    1,    3,    7,    1,    3,    2],\n",
       "       [   0, 1123,    0,    0,    0,    1,    3,    5,    0,    3],\n",
       "       [   1,    2, 1007,    2,    3,    0,    2,    7,    3,    1],\n",
       "       [   1,    2,    1,  995,    1,    9,    1,    4,    6,    5],\n",
       "       [   1,    0,    2,    0,  961,    2,    3,    1,    3,   10],\n",
       "       [   3,    1,    0,    2,    0,  865,    2,    0,    4,    3],\n",
       "       [   2,    3,    1,    0,    3,    5,  935,    0,    3,    1],\n",
       "       [   2,    1,    6,    3,    2,    1,    1, 1000,    4,    5],\n",
       "       [   1,    3,    9,    4,    1,    4,    4,    2,  946,    3],\n",
       "       [   1,    0,    0,    4,   10,    2,    0,    8,    2,  976]])"
      ]
     },
     "execution_count": 22,
     "metadata": {},
     "output_type": "execute_result"
    }
   ],
   "source": [
    "# plot losses\n",
    "plt.figure()\n",
    "plt.plot(losses)\n",
    "plt.show()\n",
    "# plot iteration losses\n",
    "plt.figure()\n",
    "plt.plot(iteration_losses)\n",
    "plt.show()\n",
    "\n",
    "# print confusion matrix\n",
    "confusion_matrix(np.argmax(y_test_pred, 1), y_test)"
   ]
  },
  {
   "cell_type": "markdown",
   "metadata": {
    "slideshow": {
     "slide_type": "slide"
    }
   },
   "source": [
    "# Sum-up"
   ]
  },
  {
   "cell_type": "code",
   "execution_count": 23,
   "metadata": {
    "slideshow": {
     "slide_type": "-"
    }
   },
   "outputs": [],
   "source": [
    "#################### hyper parameter setting ####################\n",
    "learning_rate = 1e-2\n",
    "training_epochs = 100\n",
    "display_step = 10\n",
    "\n",
    "### batch_size\n",
    "batch_size = 100\n",
    "\n",
    "# number of hidden layer's node\n",
    "h = 256\n",
    "# activation function\n",
    "act = tf.nn.tanh\n",
    "#################################################################\n",
    "\n",
    "# build model\n",
    "tf.reset_default_graph()\n",
    "\n",
    "# place holder\n",
    "tf_X = tf.placeholder(tf.float32, [None, np.prod(shape)])\n",
    "tf_Y = tf.placeholder(tf.float32, [None, 10])\n",
    "\n",
    "# model\n",
    "hidden1 = tf.layers.dense(tf_X, h, activation=act)\n",
    "logit = tf.layers.dense(hidden1, 10)\n",
    "pred = tf.nn.softmax(logit)\n",
    "\n",
    "# cross entropy loss\n",
    "loss = tf.losses.softmax_cross_entropy(tf_Y, pred)\n",
    "optimizer = tf.train.GradientDescentOptimizer(learning_rate).minimize(loss)"
   ]
  },
  {
   "cell_type": "code",
   "execution_count": 24,
   "metadata": {
    "slideshow": {
     "slide_type": "subslide"
    }
   },
   "outputs": [
    {
     "name": "stdout",
     "output_type": "stream",
     "text": [
      "Epoch: 10 \tLoss: 1.7042472\n",
      "Epoch: 20 \tLoss: 1.5344499\n",
      "Epoch: 30 \tLoss: 1.5830373\n",
      "Epoch: 40 \tLoss: 1.62811\n",
      "Epoch: 50 \tLoss: 1.5435874\n",
      "Epoch: 60 \tLoss: 1.5661632\n",
      "Epoch: 70 \tLoss: 1.5613971\n",
      "Epoch: 80 \tLoss: 1.5764399\n",
      "Epoch: 90 \tLoss: 1.5236807\n",
      "Epoch: 100 \tLoss: 1.5356036\n",
      "최적화 완료\n",
      "정확도: 0.9332\n"
     ]
    }
   ],
   "source": [
    "# train\n",
    "init = tf.global_variables_initializer()\n",
    "\n",
    "with tf.Session() as sess:\n",
    "    # init\n",
    "    sess.run(init)\n",
    "    \n",
    "    # train\n",
    "    batch_size = 100  # batch size hyper_parameter\n",
    "    total_batch = int( len(X_train)/batch_size )  # total batch: number of batches\n",
    "    losses = []  # init loss list\n",
    "    iteration_losses = [] # init iteration losses\n",
    "    for epoch in range(0, training_epochs):\n",
    "        # avg loss\n",
    "        avg_loss = 0.\n",
    "        \n",
    "        # shuffle\n",
    "        idx = np.random.permutation(len(X_train))\n",
    "        shuffled_X_train = X_train[idx]\n",
    "        shuffled_Y_train = Y_train[idx]\n",
    "        \n",
    "        for i in range(total_batch):\n",
    "            # get batch\n",
    "            x_batch = shuffled_X_train[i*batch_size:(i+1)*batch_size]\n",
    "            y_batch = shuffled_Y_train[i*batch_size:(i+1)*batch_size]\n",
    "            \n",
    "            # get loss in sess.run # batch input\n",
    "            _, l = sess.run([optimizer, loss], feed_dict={tf_X: x_batch, tf_Y: y_batch}) \n",
    "            iteration_losses.append(l)  # save iteration loss\n",
    "            avg_loss = avg_loss + l # avg_loss += l\n",
    "        avg_loss = avg_loss / total_batch  # avg_loss: average loss of iterations in an epoch\n",
    "        losses.append(avg_loss)  # save average loss (epoch loss)\n",
    "\n",
    "        if (epoch + 1) % display_step == 0:\n",
    "            print(\"Epoch:\", epoch + 1, \"\\tLoss:\", l) \n",
    "\n",
    "    print(\"최적화 완료\") \n",
    "\n",
    "    # result\n",
    "    correct_prediction = tf.equal(tf.argmax(pred, 1), tf.argmax(tf_Y, 1))\n",
    "    accuracy = tf.reduce_mean(tf.cast(correct_prediction, tf.float32))\n",
    "    test_accuracy, y_test_pred = sess.run([accuracy, pred], \n",
    "                                          feed_dict={tf_X: X_test, tf_Y: Y_test})\n",
    "    print(\"정확도:\", test_accuracy) "
   ]
  },
  {
   "cell_type": "code",
   "execution_count": 25,
   "metadata": {
    "slideshow": {
     "slide_type": "subslide"
    }
   },
   "outputs": [
    {
     "data": {
      "image/png": "[encoded data removed]",
      "text/plain": [
       "<Figure size 432x288 with 1 Axes>"
      ]
     },
     "metadata": {
      "needs_background": "light"
     },
     "output_type": "display_data"
    },
    {
     "data": {
      "image/png": "[encoded data removed]",
      "text/plain": [
       "<Figure size 432x288 with 1 Axes>"
      ]
     },
     "metadata": {
      "needs_background": "light"
     },
     "output_type": "display_data"
    },
    {
     "data": {
      "text/plain": [
       "array([[ 964,    0,   11,    1,    1,    9,   13,    3,    4,   11],\n",
       "       [   0, 1110,    1,    0,    1,    3,    3,    8,    4,    5],\n",
       "       [   2,    3,  939,   20,    3,    2,    6,   24,    4,    2],\n",
       "       [   1,    5,   10,  933,    0,   32,    2,    6,   18,   11],\n",
       "       [   0,    1,   14,    1,  930,   10,    6,   10,   10,   28],\n",
       "       [   2,    2,    1,   20,    0,  781,   13,    0,   14,   12],\n",
       "       [   8,    4,   13,    2,   12,   15,  911,    0,   11,    0],\n",
       "       [   2,    2,   14,   10,    2,    6,    1,  951,   10,   13],\n",
       "       [   1,    8,   25,   14,    4,   27,    3,    3,  898,   12],\n",
       "       [   0,    0,    4,    9,   29,    7,    0,   23,    1,  915]])"
      ]
     },
     "execution_count": 25,
     "metadata": {},
     "output_type": "execute_result"
    }
   ],
   "source": [
    "# plot losses\n",
    "plt.figure()\n",
    "plt.plot(losses)\n",
    "plt.show()\n",
    "# plot iteration losses\n",
    "plt.figure()\n",
    "plt.plot(iteration_losses)\n",
    "plt.show()\n",
    "\n",
    "# print confusion matrix\n",
    "confusion_matrix(np.argmax(y_test_pred, 1), y_test)"
   ]
  },
  {
   "cell_type": "code",
   "execution_count": null,
   "metadata": {
    "slideshow": {
     "slide_type": "skip"
    }
   },
   "outputs": [],
   "source": []
  }
 ],
 "metadata": {
  "celltoolbar": "Slideshow",
  "kernelspec": {
   "display_name": "Python 3",
   "language": "python",
   "name": "python3"
  },
  "language_info": {
   "codemirror_mode": {
    "name": "ipython",
    "version": 3
   },
   "file_extension": ".py",
   "mimetype": "text/x-python",
   "name": "python",
   "nbconvert_exporter": "python",
   "pygments_lexer": "ipython3",
   "version": "3.7.3"
  }
 },
 "nbformat": 4,
 "nbformat_minor": 2
}
