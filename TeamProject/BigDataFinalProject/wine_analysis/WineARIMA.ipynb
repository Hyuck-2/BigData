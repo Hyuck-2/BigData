{
 "cells": [
  {
   "cell_type": "code",
   "execution_count": null,
   "metadata": {},
   "outputs": [],
   "source": [
    "import pandas as pd\n",
    "import numpy as np\n",
    "import matplotlib\n",
    "import matplotlib.pyplot as plt\n",
    "import statsmodels.api as sm\n",
    "from datetime import date\n",
    "import calendar\n",
    "from statsmodels.graphics.tsaplots import plot_acf,plot_pacf\n",
    "from statsmodels.tsa.seasonal import seasonal_decompose\n",
    "from statsmodels.tsa.stattools import acf, pacf\n",
    "from statsmodels.tsa.arima_model import ARIMA\n",
    "from datetime import datetime\n",
    "pd.options.mode.chained_assignment = None  # default='warn'\n",
    "\n",
    "plt.rcParams['axes.unicode_minus'] = False\n",
    "\n",
    "matplotlib.rc('font', family='NanumGothic')\n",
    "\n",
    "import warnings\n",
    "warnings.filterwarnings('ignore')"
   ]
  },
  {
   "cell_type": "code",
   "execution_count": null,
   "metadata": {
    "scrolled": false
   },
   "outputs": [],
   "source": [
    "df=pd.read_csv('~/Downloads/1조_Wine/wine_data_sales.csv', engine='python', parse_dates=['date'])\n",
    "df.head()"
   ]
  },
  {
   "cell_type": "code",
   "execution_count": null,
   "metadata": {},
   "outputs": [],
   "source": [
    "df = df.drop('Unnamed: 0', axis = 1, inplace = False)"
   ]
  },
  {
   "cell_type": "code",
   "execution_count": null,
   "metadata": {},
   "outputs": [],
   "source": [
    "df.columns"
   ]
  },
  {
   "cell_type": "code",
   "execution_count": null,
   "metadata": {
    "scrolled": false
   },
   "outputs": [],
   "source": [
    "from collections import Counter\n",
    "\n",
    "scale_var_char = ['gender', 'age', 'job', 'marital', 'province',\n",
    "       'city','amount']\n",
    "\n",
    "for v_var in scale_var_char:\n",
    "    print(v_var,'변수',Counter(df[v_var]))"
   ]
  },
  {
   "cell_type": "code",
   "execution_count": null,
   "metadata": {},
   "outputs": [],
   "source": [
    "for idx in df[df['gender'] == 'UNKNOW'].index:\n",
    "    df.loc[idx, 'gender'] = np.NaN"
   ]
  },
  {
   "cell_type": "code",
   "execution_count": null,
   "metadata": {},
   "outputs": [],
   "source": [
    "for idx in df[df['age'] == '미상'].index:\n",
    "    df.loc[idx, 'age'] = np.NaN"
   ]
  },
  {
   "cell_type": "code",
   "execution_count": null,
   "metadata": {},
   "outputs": [],
   "source": [
    "for idx in df[df['job'] == '미상'].index:\n",
    "    df.loc[idx, 'job'] = np.NaN"
   ]
  },
  {
   "cell_type": "code",
   "execution_count": null,
   "metadata": {},
   "outputs": [],
   "source": [
    "for idx in df[df['marital'] == 'UNKNOWN'].index:\n",
    "    df.loc[idx, 'marital'] = np.NaN"
   ]
  },
  {
   "cell_type": "code",
   "execution_count": null,
   "metadata": {},
   "outputs": [],
   "source": [
    "df.isnull().sum()"
   ]
  },
  {
   "cell_type": "code",
   "execution_count": null,
   "metadata": {},
   "outputs": [],
   "source": [
    "df_drop = df.dropna(how='any')"
   ]
  },
  {
   "cell_type": "code",
   "execution_count": null,
   "metadata": {},
   "outputs": [],
   "source": [
    "df_drop.isnull().sum()"
   ]
  },
  {
   "cell_type": "code",
   "execution_count": null,
   "metadata": {},
   "outputs": [],
   "source": [
    "df_drop.head()"
   ]
  },
  {
   "cell_type": "code",
   "execution_count": null,
   "metadata": {},
   "outputs": [],
   "source": [
    "df_drop.columns"
   ]
  },
  {
   "cell_type": "code",
   "execution_count": null,
   "metadata": {},
   "outputs": [],
   "source": [
    "df_drop.info()"
   ]
  },
  {
   "cell_type": "code",
   "execution_count": null,
   "metadata": {},
   "outputs": [],
   "source": [
    "# df_drop.set_index('date', inplace = False)"
   ]
  },
  {
   "cell_type": "code",
   "execution_count": null,
   "metadata": {},
   "outputs": [],
   "source": [
    "# df_drop = df_drop.drop(['gender', 'age', 'job', 'marital', 'province', 'city',\n",
    "#        'purchase'], axis = 1, inplace = False)"
   ]
  },
  {
   "cell_type": "markdown",
   "metadata": {},
   "source": [
    "# 일별 총매출액 "
   ]
  },
  {
   "cell_type": "code",
   "execution_count": null,
   "metadata": {
    "scrolled": false
   },
   "outputs": [],
   "source": [
    "trends_amount_sum = df_drop.groupby('date').sum()\n",
    "trends_amount_sum.head()"
   ]
  },
  {
   "cell_type": "code",
   "execution_count": null,
   "metadata": {
    "scrolled": false
   },
   "outputs": [],
   "source": [
    "# trends_amount_sum.plot(figsize=(15,8))"
   ]
  },
  {
   "cell_type": "code",
   "execution_count": null,
   "metadata": {},
   "outputs": [],
   "source": [
    "# plot_acf(trends_amount_sum['amount'])\n",
    "# plot_pacf(trends_amount_sum['amount'])\n",
    "# plt.show()"
   ]
  },
  {
   "cell_type": "code",
   "execution_count": null,
   "metadata": {},
   "outputs": [],
   "source": [
    "# df_train = df_count[mask]\n",
    "# df_test = df_count[~mask]\n",
    "# print(\"shape of train data: {}\".format(df_train.shape))\n",
    "# print(\"shape of test data: {}\".format(df_test.shape))"
   ]
  },
  {
   "cell_type": "code",
   "execution_count": null,
   "metadata": {},
   "outputs": [],
   "source": [
    "df_train = trends_amount_sum[trends_amount_sum.index <= \"2016-09-30\"]\n",
    "df_test = trends_amount_sum[trends_amount_sum.index > \"2016-09-30\"]\n",
    "df_test.head()\n",
    "print(\"shape of train data: {}\".format(df_train.shape))\n",
    "print(\"shape of test data: {}\".format(df_test.shape))"
   ]
  },
  {
   "cell_type": "markdown",
   "metadata": {},
   "source": [
    "# 시계열분석 차분 "
   ]
  },
  {
   "cell_type": "markdown",
   "metadata": {},
   "source": [
    "> 시계열분석에서 차분을 통해 정상성데이터로 해준다. (평균이 일정하지 않는 자료에서는 차분(현시점 자료에서 전시점 자료를 빼는것 : 변화량)"
   ]
  },
  {
   "cell_type": "code",
   "execution_count": null,
   "metadata": {},
   "outputs": [],
   "source": [
    "df_diff1 = df_train - df_train.shift(1)\n",
    "df_diff1.plot(figsize = (12,8))"
   ]
  },
  {
   "cell_type": "code",
   "execution_count": null,
   "metadata": {},
   "outputs": [],
   "source": [
    "df_diff2 = df_train - 2 * (df_train.shift(1)) + (df_train.shift(2))\n",
    "df_diff2.plot(figsize = (12,8))"
   ]
  },
  {
   "cell_type": "markdown",
   "metadata": {},
   "source": [
    "> 1번 차분 2번차분을 해본결과 2가 조금 더 정상성을 보여서 2로 채택했다."
   ]
  },
  {
   "cell_type": "code",
   "execution_count": null,
   "metadata": {},
   "outputs": [],
   "source": [
    "# ACF \n",
    "\n",
    "lag_size = 60 # 최대 p기간 지정\n",
    "fig = plt.figure(figsize = (12,8))\n",
    "ax1 = fig.add_subplot(211)\n",
    "fig = plot_acf(df_train, lags=lag_size, ax=ax1)\n",
    "ax2 = fig.add_subplot(212)\n",
    "fig = plot_pacf(df_train, lags=lag_size, ax=ax2)"
   ]
  },
  {
   "cell_type": "markdown",
   "metadata": {},
   "source": [
    "> ACF를 보면 20의 Time lag을 기준으로 자기상관이 양에서 음으로 변동한다. \n",
    "또한 PACF는 1의 Time lag에서 약 0.7을 보이고 이후에 급격히 감소한다.  \n",
    "p=0, q=1이 적당하다고 추측할 수 있다.\n"
   ]
  },
  {
   "cell_type": "code",
   "execution_count": null,
   "metadata": {},
   "outputs": [],
   "source": [
    "# pacf = sm.tsa.pacf(df_drop['date'])\n",
    "# pacf"
   ]
  },
  {
   "cell_type": "markdown",
   "metadata": {},
   "source": [
    "# 데이터에는 ARIMA(0,2,1)을 사용하기로 함"
   ]
  },
  {
   "cell_type": "code",
   "execution_count": null,
   "metadata": {
    "scrolled": false
   },
   "outputs": [],
   "source": [
    "# train 데이터 이용, AR(0), I(2, 차분), MA(1)인 ARIMA 모델\n",
    "ts_model = ARIMA(df_train, order = (0,2,1))\n",
    "# 데이터 적합\n",
    "# trend: 상수 포함 여부 \"nc\"이면 상수 미포함, full _output : 모든 출력 결과 표시, disp : 수렴 정보 출력\n",
    "ts_result = ts_model.fit(trend = \"nc\", full_output = True, disp = 1)\n",
    "print(ts_result.summary())"
   ]
  },
  {
   "cell_type": "markdown",
   "metadata": {},
   "source": [
    "> MA.1의 계수는 유효하고, 모형의 constant가 유효하지 않음 그래서 c를 빼주었음"
   ]
  },
  {
   "cell_type": "code",
   "execution_count": null,
   "metadata": {},
   "outputs": [],
   "source": [
    "start_time = df_test.index.min() \n",
    "end_time = df_test.index.max() \n",
    "fig, ax = plt.subplots(figsize = (12,8))\n",
    "# 예측 전까지 데이터\n",
    "ax = df_train.plot(ax = ax)\n",
    "# 예측 그래프 생성 함수, start: 예측 시작, end: 예측 종료, plot_insample : 가지고 있는 데이터 중 예측 구간과 겹치는 구간 표시\n",
    "fig = ts_result.plot_predict(start = start_time, end = end_time, ax = ax, plot_insample = False)\n",
    "plt.show()"
   ]
  },
  {
   "cell_type": "code",
   "execution_count": null,
   "metadata": {},
   "outputs": [],
   "source": [
    "start_time = df_test.index.min() \n",
    "end_time = df_test.index.max()\n",
    "fig, ax = plt.subplots(figsize = (12,8))\n",
    "plt.plot(df_train, linestyle = \"-\", label = \"train\")\n",
    "plt.plot(df_test, linestyle = \"--\", label = \"test\")\n",
    "fig = ts_result.plot_predict(start = start_time, end = end_time, ax = ax, plot_insample = False)\n",
    "plt.show()"
   ]
  },
  {
   "cell_type": "code",
   "execution_count": null,
   "metadata": {
    "scrolled": false
   },
   "outputs": [],
   "source": [
    "start_time = df_test.index.min() \n",
    "end_time = df_test.index.max() \n",
    "y_pred = ts_result.predict(start = start_time, end = end_time, typ = 'levels')\n",
    "plt.subplots(figsize = (12,8))\n",
    "plt.plot(df_train, linestyle = \"-\", label = \"train\")\n",
    "plt.plot(df_test, linestyle = \"--\", label = \"test\")\n",
    "plt.plot(y_pred, linestyle = \"--\", label = \"pred\")\n",
    "plt.legend()"
   ]
  },
  {
   "cell_type": "code",
   "execution_count": null,
   "metadata": {},
   "outputs": [],
   "source": [
    "df_train_f = trends_amount_sum[trends_amount_sum.index <= \"2016-10-31\"]\n",
    "df_test_f = trends_amount_sum[trends_amount_sum.index > \"2016-10-31\"]\n",
    "df_test_f.head()\n",
    "print(\"shape of train data: {}\".format(df_train_f.shape))\n",
    "print(\"shape of test data: {}\".format(df_test_f.shape))"
   ]
  },
  {
   "cell_type": "code",
   "execution_count": null,
   "metadata": {},
   "outputs": [],
   "source": [
    "# train 데이터 이용, AR(0), I(2, 차분), MA(1)인 ARIMA 모델\n",
    "ts_model_f = ARIMA(df_train_f, order = (0,2,1))\n",
    "# 데이터 적합\n",
    "# trend: 상수 포함 여부 \"nc\"이면 상수 미포함, full _output : 모든 출력 결과 표시, disp : 수렴 정보 출력\n",
    "ts_result_f = ts_model_f.fit(trend = \"nc\", full_output = True, disp = 1)\n",
    "print(ts_result_f.summary())"
   ]
  },
  {
   "cell_type": "code",
   "execution_count": null,
   "metadata": {},
   "outputs": [],
   "source": [
    "# 11월, 12월 수요량 예측\n",
    "start_time_f = '2016-11-01'\n",
    "end_time_f = '2016-12-31' \n",
    "fig, ax = plt.subplots(figsize = (12,8))\n",
    "# 예측 전까지 데이터\n",
    "ax = df_train_f.plot(ax = ax)\n",
    "# 예측 그래프 생성 함수, start: 예측 시작, end: 예측 종료, plot_insample : 가지고 있는 데이터 중 예측 구간과 겹치는 구간 표시\n",
    "fig = ts_result_f.plot_predict(start = start_time_f, end = end_time_f, ax = ax, plot_insample = False)"
   ]
  },
  {
   "cell_type": "code",
   "execution_count": null,
   "metadata": {
    "scrolled": false
   },
   "outputs": [],
   "source": [
    "start_time_f = '2016-11-01'\n",
    "end_time_f = '2016-12-31' \n",
    "y_pred_f = ts_result_f.predict(start = start_time_f, end = end_time_f, typ = 'levels')\n",
    "plt.subplots(figsize = (12,8))\n",
    "plt.plot(df_train_f, linestyle = \"-\", label = \"train\")\n",
    "plt.plot(y_pred_f, linestyle = \"--\", label = \"pred\")\n",
    "plt.legend()"
   ]
  },
  {
   "cell_type": "code",
   "execution_count": null,
   "metadata": {},
   "outputs": [],
   "source": []
  },
  {
   "cell_type": "markdown",
   "metadata": {},
   "source": [
    "# 주별 월별 분기별 해보기!!"
   ]
  },
  {
   "cell_type": "code",
   "execution_count": null,
   "metadata": {},
   "outputs": [],
   "source": [
    "# df=pd.read_csv('~/Downloads/1조_Wine/wine_data_sales.csv', engine='python', parse_dates=['date'], index_col = 'date')\n",
    "# df.head()"
   ]
  },
  {
   "cell_type": "code",
   "execution_count": null,
   "metadata": {},
   "outputs": [],
   "source": [
    "# df.columns"
   ]
  },
  {
   "cell_type": "code",
   "execution_count": null,
   "metadata": {
    "scrolled": false
   },
   "outputs": [],
   "source": [
    "# df = df.drop(['Unnamed: 0', 'gender', 'age', 'job', 'marital', 'province', 'city',\n",
    "#        'purchase'], axis = 1, inplace = False)"
   ]
  },
  {
   "cell_type": "code",
   "execution_count": null,
   "metadata": {},
   "outputs": [],
   "source": [
    "# data= df_drop.groupby('date').sum()\n",
    "# data.head()"
   ]
  },
  {
   "cell_type": "code",
   "execution_count": null,
   "metadata": {},
   "outputs": [],
   "source": [
    "# data.info()"
   ]
  },
  {
   "cell_type": "code",
   "execution_count": null,
   "metadata": {},
   "outputs": [],
   "source": [
    "# data.index = pd.to_datetime(data.index)\n",
    "# print(data.index)"
   ]
  },
  {
   "cell_type": "code",
   "execution_count": null,
   "metadata": {},
   "outputs": [],
   "source": [
    "# data = data.sort_index()\n",
    "# data.head()"
   ]
  },
  {
   "cell_type": "code",
   "execution_count": null,
   "metadata": {},
   "outputs": [],
   "source": [
    "weekly = data.resample('W').mean()\n",
    "weekly.plot(figsize = (20,8))\n",
    "plt.ylabel('Weekly amount')"
   ]
  },
  {
   "cell_type": "code",
   "execution_count": null,
   "metadata": {},
   "outputs": [],
   "source": [
    "# weekly_train = weekly[weekly.index <= \"2016-09-30\"]\n",
    "# weekly_test = weekly[weekly.index > \"2016-09-30\"]\n",
    "# weekly_test.head()\n",
    "# print(\"shape of train data: {}\".format(weekly_train.shape))\n",
    "# print(\"shape of test data: {}\".format(weekly_test.shape))"
   ]
  },
  {
   "cell_type": "code",
   "execution_count": null,
   "metadata": {},
   "outputs": [],
   "source": [
    "# weekly_diff1 = weekly_train - weekly_train.shift(1)\n",
    "# weekly_diff1.plot(figsize = (12,8))"
   ]
  },
  {
   "cell_type": "code",
   "execution_count": null,
   "metadata": {},
   "outputs": [],
   "source": [
    "# weekly_diff2 = weekly_train - 2 * (weekly_train.shift(1)) + (weekly_train.shift(2))\n",
    "# weekly_diff2.plot(figsize = (12,8))"
   ]
  },
  {
   "cell_type": "code",
   "execution_count": null,
   "metadata": {},
   "outputs": [],
   "source": [
    "# lag_size = 21 # 최대 p기간 지정\n",
    "# fig = plt.figure(figsize = (12,8))\n",
    "# ax1 = fig.add_subplot(211)\n",
    "# fig = plot_acf(df_train, lags=lag_size, ax=ax1)\n",
    "# ax2 = fig.add_subplot(212)\n",
    "# fig = plot_pacf(df_train, lags=lag_size, ax=ax2)"
   ]
  },
  {
   "cell_type": "code",
   "execution_count": null,
   "metadata": {},
   "outputs": [],
   "source": [
    "# # train 데이터 이용, AR(0), I(2, 차분), MA(1)인 ARIMA 모델\n",
    "# ts_model = ARIMA(weekly_train, order = (0,2,1))\n",
    "# # 데이터 적합\n",
    "# # trend: 상수 포함 여부 \"nc\"이면 상수 미포함, full _output : 모든 출력 결과 표시, disp : 수렴 정보 출력\n",
    "# ts_result = ts_model.fit(trend = \"nc\", full_output = True, disp = 1)\n",
    "# print(ts_result.summary())"
   ]
  },
  {
   "cell_type": "code",
   "execution_count": null,
   "metadata": {},
   "outputs": [],
   "source": [
    "# start_time = weekly_test.index.min() \n",
    "# end_time = weekly_test.index.max() \n",
    "# fig, ax = plt.subplots(figsize = (12,8))\n",
    "# # 예측 전까지 데이터\n",
    "# ax = weekly_train.plot(ax = ax)\n",
    "# # 예측 그래프 생성 함수, start: 예측 시작, end: 예측 종료, plot_insample : 가지고 있는 데이터 중 예측 구간과 겹치는 구간 표시\n",
    "# fig = ts_result.plot_predict(start = start_time, end = end_time, ax = ax, plot_insample = False)\n",
    "# plt.show()"
   ]
  },
  {
   "cell_type": "code",
   "execution_count": null,
   "metadata": {},
   "outputs": [],
   "source": [
    "# weekly_train_f = weekly[weekly.index <= \"2016-10-30\"]\n",
    "# weekly_test_f = weekly[weekly.index > \"2016-10-30\"]\n",
    "# df_test_f.head()\n",
    "# print(\"shape of train data: {}\".format(weekly_train_f.shape))\n",
    "# print(\"shape of test data: {}\".format(weekly_test_f.shape))"
   ]
  },
  {
   "cell_type": "code",
   "execution_count": null,
   "metadata": {},
   "outputs": [],
   "source": [
    "# # train 데이터 이용, AR(0), I(1, 차분), MA(2)인 ARIMA 모델\n",
    "# ts_model_f = ARIMA(weekly_train_f, order = (0,2,1))\n",
    "# # 데이터 적합\n",
    "# # trend: 상수 포함 여부 \"nc\"이면 상수 미포함, full _output : 모든 출력 결과 표시, disp : 수렴 정보 출력\n",
    "# ts_result_f = ts_model_f.fit(trend = \"c\", full_output = True, disp = 1)\n",
    "# print(ts_result_f.summary())"
   ]
  },
  {
   "cell_type": "code",
   "execution_count": null,
   "metadata": {
    "scrolled": false
   },
   "outputs": [],
   "source": [
    "# # 11월, 12월 수요량 예측\n",
    "# start_time_w = '2016-11-06'\n",
    "# end_time_w = '2017-01-01' \n",
    "# fig, ax = plt.subplots(figsize = (12,8))\n",
    "# # 예측 전까지 데이터\n",
    "# ax = weekly_train_f.plot(ax = ax)\n",
    "\n",
    "# # 예측 그래프 생성 함수, start: 예측 시작, end: 예측 종료, plot_insample : 가지고 있는 데이터 중 예측 구간과 겹치는 구간 표시\n",
    "# fig = ts_result_f.plot_predict(start = start_time_w, end = end_time_w, ax = ax, plot_insample = False)"
   ]
  },
  {
   "cell_type": "markdown",
   "metadata": {},
   "source": [
    "# 요일마다해보기"
   ]
  },
  {
   "cell_type": "code",
   "execution_count": null,
   "metadata": {},
   "outputs": [],
   "source": [
    "by_weekday = data.groupby(data.index.dayofweek).mean()\n",
    "by_weekday.index = ['Mon', 'Tues', 'Wed', 'Thurs', 'Fri', 'Sat', 'Sun']\n",
    "by_weekday.plot(figsize = (20,8))\n"
   ]
  },
  {
   "cell_type": "markdown",
   "metadata": {},
   "source": [
    "# 일마다해보기"
   ]
  },
  {
   "cell_type": "code",
   "execution_count": null,
   "metadata": {},
   "outputs": [],
   "source": [
    "# by_day = data.groupby(data.index.dayofyear).mean()\n",
    "# by_day.plot(figsize = (20,8))"
   ]
  },
  {
   "cell_type": "markdown",
   "metadata": {},
   "source": [
    "# 월마다해보기"
   ]
  },
  {
   "cell_type": "code",
   "execution_count": null,
   "metadata": {},
   "outputs": [],
   "source": [
    "# by_month = data.groupby(data.index.month).mean()\n",
    "# by_month.plot(figsize = (20,8))"
   ]
  },
  {
   "cell_type": "code",
   "execution_count": null,
   "metadata": {},
   "outputs": [],
   "source": [
    "# by_month"
   ]
  },
  {
   "cell_type": "code",
   "execution_count": null,
   "metadata": {},
   "outputs": [],
   "source": []
  },
  {
   "cell_type": "code",
   "execution_count": null,
   "metadata": {},
   "outputs": [],
   "source": []
  },
  {
   "cell_type": "code",
   "execution_count": null,
   "metadata": {},
   "outputs": [],
   "source": []
  },
  {
   "cell_type": "markdown",
   "metadata": {},
   "source": [
    "# 분기마다 해보기"
   ]
  },
  {
   "cell_type": "code",
   "execution_count": null,
   "metadata": {},
   "outputs": [],
   "source": [
    "by_quarter = data.groupby(data.index.quarter).mean()\n",
    "by_quarter.plot(figsize = (20,8))"
   ]
  },
  {
   "cell_type": "markdown",
   "metadata": {},
   "source": [
    "# 2016년 7월말, 9월초, 매분기말"
   ]
  },
  {
   "cell_type": "code",
   "execution_count": null,
   "metadata": {},
   "outputs": [],
   "source": [
    "by_quarter = data.groupby(data.index.quarter)\n",
    "by_quarter.plot(figsize = (20,8))"
   ]
  },
  {
   "cell_type": "code",
   "execution_count": null,
   "metadata": {},
   "outputs": [],
   "source": []
  },
  {
   "cell_type": "code",
   "execution_count": null,
   "metadata": {},
   "outputs": [],
   "source": []
  },
  {
   "cell_type": "code",
   "execution_count": null,
   "metadata": {},
   "outputs": [],
   "source": []
  },
  {
   "cell_type": "code",
   "execution_count": null,
   "metadata": {},
   "outputs": [],
   "source": []
  },
  {
   "cell_type": "code",
   "execution_count": null,
   "metadata": {},
   "outputs": [],
   "source": []
  },
  {
   "cell_type": "code",
   "execution_count": null,
   "metadata": {},
   "outputs": [],
   "source": []
  },
  {
   "cell_type": "code",
   "execution_count": null,
   "metadata": {},
   "outputs": [],
   "source": []
  },
  {
   "cell_type": "code",
   "execution_count": null,
   "metadata": {},
   "outputs": [],
   "source": []
  },
  {
   "cell_type": "code",
   "execution_count": null,
   "metadata": {},
   "outputs": [],
   "source": []
  },
  {
   "cell_type": "code",
   "execution_count": null,
   "metadata": {},
   "outputs": [],
   "source": []
  },
  {
   "cell_type": "code",
   "execution_count": null,
   "metadata": {},
   "outputs": [],
   "source": []
  },
  {
   "cell_type": "code",
   "execution_count": null,
   "metadata": {},
   "outputs": [],
   "source": []
  },
  {
   "cell_type": "code",
   "execution_count": null,
   "metadata": {},
   "outputs": [],
   "source": [
    "# from statsmodels.tsa.stattools import adfuller\n",
    "# def test_for_stationary(timeseries):\n",
    "    \n",
    "#     #Determing rolling statistics\n",
    "#     rolmean = data.rolling(window=12).mean()\n",
    "#     rolstd = data.rolling(window=12).std()\n",
    "\n",
    "#     #Plot rolling statistics:\n",
    "#     orig = plt.plot(timeseries, color='blue',label='Original')\n",
    "#     mean = plt.plot(rolmean, color='red', label='Rolling Mean')\n",
    "#     std = plt.plot(rolstd, color='black', label = 'Rolling Std')\n",
    "#     plt.legend(loc='best')\n",
    "#     plt.title('Rolling Mean & Standard Deviation')\n",
    "#     plt.show(block=False)\n",
    "    \n",
    "# # #     Perform Dickey-Fuller test:\n",
    "# #     print ('Results of Dickey-Fuller Test:')\n",
    "# #     dftest = adfuller(timeseries, autolag='AIC')\n",
    "# #     dfoutput = pd.Series(dftest[0:4], index=['Test Statistic','p-value','#Lags Used','Number of Observations Used'])\n",
    "# #     for key,value in dftest[4].items():\n",
    "# #         dfoutput['Critical Value (%s)'%key] = value\n",
    "# #     print (dfoutput)"
   ]
  },
  {
   "cell_type": "code",
   "execution_count": null,
   "metadata": {},
   "outputs": [],
   "source": [
    "ts = data"
   ]
  },
  {
   "cell_type": "code",
   "execution_count": null,
   "metadata": {},
   "outputs": [],
   "source": [
    "ts_logtransformed = np.log(ts)\n",
    "plt.plot(ts_logtransformed)"
   ]
  },
  {
   "cell_type": "code",
   "execution_count": null,
   "metadata": {},
   "outputs": [],
   "source": [
    "ts_logtransformed.head(10)"
   ]
  },
  {
   "cell_type": "code",
   "execution_count": null,
   "metadata": {},
   "outputs": [],
   "source": [
    "decomposition = seasonal_decompose(ts_logtransformed)\n",
    "\n",
    "trend = decomposition.trend\n",
    "seasonal = decomposition.seasonal\n",
    "residual = decomposition.resid\n",
    "\n",
    "plt.subplot(411)\n",
    "plt.plot(ts_logtransformed, label='Original')\n",
    "plt.legend(loc='best')\n",
    "plt.subplot(412)\n",
    "plt.plot(trend, label='Trend')\n",
    "plt.legend(loc='best')\n",
    "plt.subplot(413)\n",
    "plt.plot(seasonal,label='Seasonality')\n",
    "plt.legend(loc='best')\n",
    "plt.subplot(414)\n",
    "plt.plot(residual, label='Residuals')\n",
    "plt.legend(loc='best')\n",
    "plt.tight_layout()"
   ]
  },
  {
   "cell_type": "code",
   "execution_count": null,
   "metadata": {},
   "outputs": [],
   "source": [
    "decomposition = seasonal_decompose(data, freq=12)  \n",
    "fig = plt.figure()  \n",
    "fig = decomposition.plot()"
   ]
  },
  {
   "cell_type": "code",
   "execution_count": null,
   "metadata": {},
   "outputs": [],
   "source": [
    "Rolling_average = ts_logtransformed.rolling(window = 7, center= False).mean()\n",
    "plt.plot(ts_logtransformed, label = 'Log Transformed')\n",
    "plt.plot(Rolling_average, color = 'red', label = 'Rolling Average')\n",
    "plt.legend(loc = 'best')"
   ]
  },
  {
   "cell_type": "code",
   "execution_count": null,
   "metadata": {},
   "outputs": [],
   "source": [
    "Rolling_average.head(10)"
   ]
  },
  {
   "cell_type": "code",
   "execution_count": null,
   "metadata": {},
   "outputs": [],
   "source": [
    "\n",
    "\n",
    "log_Rolling_difference = ts_logtransformed - Rolling_average\n",
    "log_Rolling_difference.head(10)\n",
    "log_Rolling_difference.tail(10)\n",
    "\n"
   ]
  },
  {
   "cell_type": "code",
   "execution_count": null,
   "metadata": {},
   "outputs": [],
   "source": [
    "\n",
    "\n",
    "log_Rolling_difference.dropna(inplace=True)\n",
    "plt.plot(log_Rolling_difference)\n",
    "\n"
   ]
  },
  {
   "cell_type": "code",
   "execution_count": null,
   "metadata": {},
   "outputs": [],
   "source": [
    "test_for_stationary(log_Rolling_difference)"
   ]
  },
  {
   "cell_type": "code",
   "execution_count": null,
   "metadata": {},
   "outputs": [],
   "source": [
    "ts_logtransformed = np.log(data)"
   ]
  },
  {
   "cell_type": "code",
   "execution_count": null,
   "metadata": {},
   "outputs": [],
   "source": [
    "# decomposition = seasonal_decompose(ts_logtransformed)\n",
    "\n",
    "# trend = decomposition.trend\n",
    "# seasonal = decomposition.seasonal\n",
    "# residual = decomposition.resid\n",
    "\n",
    "# plt.subplot(411)\n",
    "# plt.plot(ts_logtransformed, label='Original')\n",
    "# plt.legend(loc='best')\n",
    "# plt.subplot(412)\n",
    "# plt.plot(trend, label='Trend')\n",
    "# plt.legend(loc='best')\n",
    "# plt.subplot(413)\n",
    "# plt.plot(seasonal,label='Seasonality')\n",
    "# plt.legend(loc='best')\n",
    "# plt.subplot(414)\n",
    "# plt.plot(residual, label='Residuals')\n",
    "# plt.legend(loc='best')\n",
    "# plt.tight_layout()"
   ]
  },
  {
   "cell_type": "code",
   "execution_count": null,
   "metadata": {},
   "outputs": [],
   "source": [
    "# trends_amount_sum = df_drop.groupby('date').sum()\n",
    "# trends_amount_sum.head()"
   ]
  },
  {
   "cell_type": "code",
   "execution_count": null,
   "metadata": {},
   "outputs": [],
   "source": []
  },
  {
   "cell_type": "code",
   "execution_count": null,
   "metadata": {},
   "outputs": [],
   "source": []
  },
  {
   "cell_type": "code",
   "execution_count": null,
   "metadata": {},
   "outputs": [],
   "source": []
  },
  {
   "cell_type": "code",
   "execution_count": null,
   "metadata": {},
   "outputs": [],
   "source": []
  },
  {
   "cell_type": "code",
   "execution_count": null,
   "metadata": {},
   "outputs": [],
   "source": []
  },
  {
   "cell_type": "code",
   "execution_count": null,
   "metadata": {},
   "outputs": [],
   "source": []
  },
  {
   "cell_type": "markdown",
   "metadata": {},
   "source": [
    "# 일별 총매출액 - 남성"
   ]
  },
  {
   "cell_type": "code",
   "execution_count": null,
   "metadata": {},
   "outputs": [],
   "source": [
    "trends_sum_male = df_drop[df['gender'] == 'MALE'].groupby('date').sum()\n",
    "trends_sum_male.head()"
   ]
  },
  {
   "cell_type": "code",
   "execution_count": null,
   "metadata": {},
   "outputs": [],
   "source": [
    "trends_sum_male.plot(figsize=(15,8))"
   ]
  },
  {
   "cell_type": "markdown",
   "metadata": {},
   "source": [
    "# 일별 총매출액 - 여성"
   ]
  },
  {
   "cell_type": "code",
   "execution_count": null,
   "metadata": {},
   "outputs": [],
   "source": [
    "trends_sum_female = df_drop[df['gender'] == 'FEMALE'].groupby('date').sum()\n",
    "trends_sum_female.head()"
   ]
  },
  {
   "cell_type": "code",
   "execution_count": null,
   "metadata": {},
   "outputs": [],
   "source": [
    "trends_sum_female.plot(figsize=(15,8))"
   ]
  },
  {
   "cell_type": "markdown",
   "metadata": {},
   "source": [
    "# 일별 구매빈도"
   ]
  },
  {
   "cell_type": "code",
   "execution_count": null,
   "metadata": {},
   "outputs": [],
   "source": [
    "trends_amount_count = df_drop"
   ]
  },
  {
   "cell_type": "code",
   "execution_count": null,
   "metadata": {},
   "outputs": [],
   "source": [
    "trends_amount_count = df_drop.groupby('date').count()\n",
    "trends_amount_count.plot(figsize=(15,8))\n",
    "trends_amount_count.head()"
   ]
  },
  {
   "cell_type": "code",
   "execution_count": null,
   "metadata": {},
   "outputs": [],
   "source": [
    "trends_amount_male = df_drop[df['gender'] == 'MALE'].groupby('date')\n",
    "trends_amount_male.head()"
   ]
  },
  {
   "cell_type": "code",
   "execution_count": null,
   "metadata": {},
   "outputs": [],
   "source": []
  },
  {
   "cell_type": "code",
   "execution_count": null,
   "metadata": {},
   "outputs": [],
   "source": []
  },
  {
   "cell_type": "code",
   "execution_count": null,
   "metadata": {},
   "outputs": [],
   "source": []
  }
 ],
 "metadata": {
  "kernelspec": {
   "display_name": "Python 3",
   "language": "python",
   "name": "python3"
  },
  "language_info": {
   "codemirror_mode": {
    "name": "ipython",
    "version": 3
   },
   "file_extension": ".py",
   "mimetype": "text/x-python",
   "name": "python",
   "nbconvert_exporter": "python",
   "pygments_lexer": "ipython3",
   "version": "3.7.3"
  }
 },
 "nbformat": 4,
 "nbformat_minor": 2
}
